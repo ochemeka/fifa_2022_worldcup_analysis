{
 "cells": [
  {
   "cell_type": "code",
   "execution_count": null,
   "id": "659a1cfc",
   "metadata": {},
   "outputs": [],
   "source": [
    "#youtube link::::     https://www.youtube.com/watch?v=yat7soj__4w\n",
    "    \n",
    "    \n",
    "# 🔗  Link for world cups 1930-2018: https://en.wikipedia.org/wiki/2014_FI...\n",
    "# 🔗  Link for world cup 2022 (with data before starting the World Cup) : https://web.archive.org/web/202211150... \n",
    "# 👨🏻‍💻  Code/Dataset used in this video: https://github.com/ifrankandrade/fifa...\n",
    "# 🔗 Link datasets (2nd options): https://drive.google.com/drive/folder...\n",
    "# 🔗 Step-by-step guide to get the missing data: https://medium.com/geekculture/how-to...\n",
    "\n",
    "# 🔥 Join My Automation Course in Python: https://www.udemy.com/course/automate...\n",
    "# 🔥 8-hour Web Scraping Course in Python: https://www.udemy.com/course/web-scra...\n",
    "# 💰 Make money using your Programming & Data Science skills: https://codelessearnmore.teachable.co...\n",
    "# ✅  Follow me on Medium: https://frank-andrade.medium.com/"
   ]
  },
  {
   "cell_type": "code",
   "execution_count": 1,
   "id": "d14d470f",
   "metadata": {},
   "outputs": [],
   "source": [
    "# pip install beautifulsoup4\n",
    "# https://en.wikipedia.org/wiki/2014_FIFA_World_Cup\n",
    "# pip install request\n",
    "# pip install lxml\n",
    "\n",
    "from bs4 import BeautifulSoup\n",
    "import requests\n",
    "import pandas as pd"
   ]
  },
  {
   "cell_type": "code",
   "execution_count": 2,
   "id": "cbb94875",
   "metadata": {},
   "outputs": [
    {
     "name": "stdout",
     "output_type": "stream",
     "text": [
      "[1930, 1934, 1938, 1950, 1954, 1958, 1962, 1966, 1970, 1974, 1978, 1982, 1986, 1990, 1994, 1998, 2002, 2006, 2010, 2014, 2018]\n"
     ]
    }
   ],
   "source": [
    "# Web scraping\n",
    "years = [1930, 1934, 1938, 1950, 1954, 1958, 1962, 1966, 1970, 1974, 1978, 1982, \n",
    "         1986, 1990, 1994, 1998, 2002, 2006, 2010, 2014, 2018]\n",
    "print(years)\n",
    "\n"
   ]
  },
  {
   "cell_type": "code",
   "execution_count": 3,
   "id": "9081ed58",
   "metadata": {},
   "outputs": [],
   "source": [
    "def get_matches(year):\n",
    "    web = f'https://en.wikipedia.org/wiki/{year}_FIFA_World_Cup'\n",
    "    response = requests.get(web)\n",
    "    content = response.text\n",
    "    soup = BeautifulSoup(content, 'lxml')\n",
    "    matches = soup.find_all('div', class_='footballbox')\n",
    "\n",
    "    home = []\n",
    "    score = []\n",
    "    away = []\n",
    "\n",
    "    for match in matches:\n",
    "        home.append(match.find('th', class_='fhome').get_text())\n",
    "        score.append(match.find('th', class_='fscore').get_text())\n",
    "        away.append(match.find('th', class_='faway').get_text())\n",
    "\n",
    "\n",
    "    # so we create a dictionary for our work \n",
    "    dict_football = {'home': home, 'score': score, 'away': away}\n",
    "\n",
    "    df_football = pd.DataFrame(dict_football)\n",
    "    df_football['year'] = year\n",
    "    return df_football\n",
    "\n",
    "\n",
    "\n",
    "#fifa_worldcup_history_data\n",
    "\n",
    "fifa = [get_matches(year) for year in years]\n",
    "df_fifa = pd.concat(fifa, ignore_index=True)  #the pd.concat is to arrange all the tables in the world cups into a dataframe table \n",
    "\n",
    "df_fifa.to_csv('fifa_worldcup_historical_data.csv', index=False)\n",
    "\n",
    "\n",
    "\n",
    "\n",
    "df_features = get_matches(2022)\n",
    "df_features.to_csv('fifa_worldcup_features.csv', index=False)\n",
    "\n"
   ]
  },
  {
   "cell_type": "code",
   "execution_count": 5,
   "id": "14cb7100",
   "metadata": {},
   "outputs": [],
   "source": [
    "# Cleaning the missing Data\n",
    "df_historical = pd.read_csv('fifa_worldcup_historical_data.csv')\n",
    "df_features = pd.read_csv('clean_fifa_worldcup_fixture.csv')\n",
    "df_missing_data = pd.read_csv('fifa_worldcup_missing_data.csv')\n"
   ]
  },
  {
   "cell_type": "code",
   "execution_count": 10,
   "id": "d1267fe3",
   "metadata": {},
   "outputs": [],
   "source": [
    "df_features['home'] = df_features['home'].str.strip()   #the string strip is to remove extra spaces\n",
    "df_features['away'] = df_features['away'].str.strip()"
   ]
  },
  {
   "cell_type": "code",
   "execution_count": 14,
   "id": "d22b6b15",
   "metadata": {},
   "outputs": [],
   "source": [
    "#null data\n",
    "# df_missing_data[df_missing_data['home'].isnull()]\n",
    "\n",
    "#drop null data\n",
    "df_missing_data.dropna(inplace=True)\n"
   ]
  },
  {
   "cell_type": "code",
   "execution_count": 19,
   "id": "0abc051b",
   "metadata": {},
   "outputs": [
    {
     "data": {
      "text/html": [
       "<div>\n",
       "<style scoped>\n",
       "    .dataframe tbody tr th:only-of-type {\n",
       "        vertical-align: middle;\n",
       "    }\n",
       "\n",
       "    .dataframe tbody tr th {\n",
       "        vertical-align: top;\n",
       "    }\n",
       "\n",
       "    .dataframe thead th {\n",
       "        text-align: right;\n",
       "    }\n",
       "</style>\n",
       "<table border=\"1\" class=\"dataframe\">\n",
       "  <thead>\n",
       "    <tr style=\"text-align: right;\">\n",
       "      <th></th>\n",
       "      <th>home</th>\n",
       "      <th>score</th>\n",
       "      <th>away</th>\n",
       "      <th>year</th>\n",
       "    </tr>\n",
       "  </thead>\n",
       "  <tbody>\n",
       "    <tr>\n",
       "      <th>0</th>\n",
       "      <td>France</td>\n",
       "      <td>4–1</td>\n",
       "      <td>Mexico</td>\n",
       "      <td>1930</td>\n",
       "    </tr>\n",
       "    <tr>\n",
       "      <th>17</th>\n",
       "      <td>Uruguay</td>\n",
       "      <td>4–2</td>\n",
       "      <td>Argentina</td>\n",
       "      <td>1930</td>\n",
       "    </tr>\n",
       "    <tr>\n",
       "      <th>16</th>\n",
       "      <td>Uruguay</td>\n",
       "      <td>6–1</td>\n",
       "      <td>Yugoslavia</td>\n",
       "      <td>1930</td>\n",
       "    </tr>\n",
       "    <tr>\n",
       "      <th>15</th>\n",
       "      <td>Argentina</td>\n",
       "      <td>6–1</td>\n",
       "      <td>United States</td>\n",
       "      <td>1930</td>\n",
       "    </tr>\n",
       "    <tr>\n",
       "      <th>14</th>\n",
       "      <td>Paraguay</td>\n",
       "      <td>1–0</td>\n",
       "      <td>Belgium</td>\n",
       "      <td>1930</td>\n",
       "    </tr>\n",
       "    <tr>\n",
       "      <th>...</th>\n",
       "      <td>...</td>\n",
       "      <td>...</td>\n",
       "      <td>...</td>\n",
       "      <td>...</td>\n",
       "    </tr>\n",
       "    <tr>\n",
       "      <th>863</th>\n",
       "      <td>Brazil</td>\n",
       "      <td>2–0</td>\n",
       "      <td>Costa Rica</td>\n",
       "      <td>2018</td>\n",
       "    </tr>\n",
       "    <tr>\n",
       "      <th>864</th>\n",
       "      <td>Serbia</td>\n",
       "      <td>1–2</td>\n",
       "      <td>Switzerland</td>\n",
       "      <td>2018</td>\n",
       "    </tr>\n",
       "    <tr>\n",
       "      <th>865</th>\n",
       "      <td>Serbia</td>\n",
       "      <td>0–2</td>\n",
       "      <td>Brazil</td>\n",
       "      <td>2018</td>\n",
       "    </tr>\n",
       "    <tr>\n",
       "      <th>867</th>\n",
       "      <td>Germany</td>\n",
       "      <td>0–1</td>\n",
       "      <td>Mexico</td>\n",
       "      <td>2018</td>\n",
       "    </tr>\n",
       "    <tr>\n",
       "      <th>899</th>\n",
       "      <td>Belgium</td>\n",
       "      <td>2–0</td>\n",
       "      <td>England</td>\n",
       "      <td>2018</td>\n",
       "    </tr>\n",
       "  </tbody>\n",
       "</table>\n",
       "<p>1345 rows × 4 columns</p>\n",
       "</div>"
      ],
      "text/plain": [
       "           home score            away  year\n",
       "0       France    4–1          Mexico  1930\n",
       "17     Uruguay    4–2       Argentina  1930\n",
       "16     Uruguay    6–1      Yugoslavia  1930\n",
       "15   Argentina    6–1   United States  1930\n",
       "14    Paraguay    1–0         Belgium  1930\n",
       "..          ...   ...             ...   ...\n",
       "863     Brazil    2–0      Costa Rica  2018\n",
       "864     Serbia    1–2     Switzerland  2018\n",
       "865     Serbia    0–2          Brazil  2018\n",
       "867    Germany    0–1          Mexico  2018\n",
       "899    Belgium    2–0         England  2018\n",
       "\n",
       "[1345 rows x 4 columns]"
      ]
     },
     "execution_count": 19,
     "metadata": {},
     "output_type": "execute_result"
    }
   ],
   "source": [
    "#concatena dfs and clean\n",
    "df_final_historical = pd.concat([df_historical, df_missing_data], ignore_index=True)\n",
    "df_final_historical.drop_duplicates(inplace=True)\n",
    "df_final_historical.sort_values('year', inplace=True)\n",
    "\n",
    "df_final_historical"
   ]
  },
  {
   "cell_type": "code",
   "execution_count": 25,
   "id": "780ca5d4",
   "metadata": {},
   "outputs": [],
   "source": [
    "#Deleting match with walk-over\n",
    "delete_index = df_final_historical[df_final_historical['home'].str.contains('Sweden') & \n",
    "                                   df_final_historical['away'].str.contains('Austria')].index\n",
    "\n",
    "df_final_historical.drop(index=delete_index, inplace=True)"
   ]
  },
  {
   "cell_type": "code",
   "execution_count": 38,
   "id": "f82fbce0",
   "metadata": {},
   "outputs": [],
   "source": [
    "#columns scores with not only digits and \"-\" -->[^]: Matches character not in the bracket\n",
    "\n",
    "df_final_historical['score'] = df_final_historical['score'].str.replace('[^\\d–]', '', regex=True)"
   ]
  },
  {
   "cell_type": "code",
   "execution_count": 39,
   "id": "36559d19",
   "metadata": {},
   "outputs": [],
   "source": [
    "#cleaning the home and away column\n",
    "\n",
    "df_final_historical['home'] = df_final_historical['home'].str.strip()   #the string strip is to remove extra spaces\n",
    "df_final_historical['away'] = df_final_historical['away'].str.strip()"
   ]
  },
  {
   "cell_type": "code",
   "execution_count": 40,
   "id": "84562367",
   "metadata": {},
   "outputs": [
    {
     "data": {
      "text/plain": [
       "0      [4, 1]\n",
       "17     [4, 2]\n",
       "16     [6, 1]\n",
       "15     [6, 1]\n",
       "14     [1, 0]\n",
       "        ...  \n",
       "863    [2, 0]\n",
       "864    [1, 2]\n",
       "865    [0, 2]\n",
       "867    [0, 1]\n",
       "899    [2, 0]\n",
       "Name: score, Length: 1344, dtype: object"
      ]
     },
     "execution_count": 40,
     "metadata": {},
     "output_type": "execute_result"
    }
   ],
   "source": [
    "#splitting scores column into home and away goals and dropping score column\n",
    "df_final_historical['score'].str.split('–')"
   ]
  }
 ],
 "metadata": {
  "kernelspec": {
   "display_name": "Python 3 (ipykernel)",
   "language": "python",
   "name": "python3"
  },
  "language_info": {
   "codemirror_mode": {
    "name": "ipython",
    "version": 3
   },
   "file_extension": ".py",
   "mimetype": "text/x-python",
   "name": "python",
   "nbconvert_exporter": "python",
   "pygments_lexer": "ipython3",
   "version": "3.9.12"
  }
 },
 "nbformat": 4,
 "nbformat_minor": 5
}
